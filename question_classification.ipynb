{
 "cells": [
  {
   "cell_type": "markdown",
   "metadata": {},
   "source": [
    "问题主要分为两个大类，一部分需要使用SQL从金融数据库中提取相关信息；另一部分则需要从公司的招股说明书中提取有效信息。\n",
    "\n",
    "这里采用`Tongyi-Finance-14B-Chat`大模型对于所有问题先进行一个合理的分类"
   ]
  },
  {
   "cell_type": "code",
   "execution_count": 1,
   "metadata": {},
   "outputs": [],
   "source": [
    "# 导入问题\n",
    "import jsonlines\n",
    "\n",
    "def read_jsonl(path):\n",
    "    content = []\n",
    "    with jsonlines.open(path, \"r\") as json_file:\n",
    "        for obj in json_file.iter(type=dict, skip_invalid=True):\n",
    "            content.append(obj)\n",
    "    return content\n",
    "\n",
    "questions = read_jsonl('bs_challenge_financial_14b_dataset/question.json')"
   ]
  },
  {
   "cell_type": "code",
   "execution_count": 2,
   "metadata": {},
   "outputs": [],
   "source": [
    "# 导入模型\n",
    "from modelscope import AutoModelForCausalLM, AutoTokenizer, snapshot_download\n",
    "from modelscope import GenerationConfig\n",
    "\n",
    "# model_dir = snapshot_download('TongyiFinance/Tongyi-Finance-14B-Chat', local_dir='/root/autodl-tmp/models/Tongyi-Finance-14B-Chat')\n",
    "# model_dir = snapshot_download('TongyiFinance/Tongyi-Finance-14B-Chat', local_dir='/root/autodl-tmp/models/Tongyi-Finance-14B-Chat')\n",
    "model_dir = '/root/autodl-tmp/models/Tongyi-Finance-14B-Chat'"
   ]
  },
  {
   "cell_type": "code",
   "execution_count": null,
   "metadata": {},
   "outputs": [],
   "source": [
    "tokenizer = AutoTokenizer.from_pretrained(model_dir, trust_remote_code=True)\n",
    "model = AutoModelForCausalLM.from_pretrained(model_dir, device_map='cuda', trust_remote_code=True, bf16=True).eval()\n",
    "model.generation_config = GenerationConfig.from_pretrained(model_dir,\n",
    "                                                           trust_remote_code=True,\n",
    "                                                           temperature = 0.0000001,\n",
    "                                                           top_p = 1,\n",
    "                                                           do_sample = False,\n",
    "                                                           seed = 1234)\n",
    "\n",
    "\n",
    "# 构建prompt\n",
    "prompt = \"\"\"\n",
    "    你是一个问题分类器。对于每个提供给你的问题，你需要猜测答案是在该公司的招股说明书中还是在基金股票数据库里。以下是一些例子：\n",
    "\n",
    "    问题：“在2019年的中期报告里，XX基金管理有限公司管理的基金中，有多少比例的基金是个人投资者持有的份额超过机构投资者？希望得到一个精确到两位小数的百分比。”\n",
    "    回答：“基金股票数据库”\n",
    "    \n",
    "    问题：“XXXX股份有限公司变更设立时作为发起人的法人有哪些？”\n",
    "    回答：“该公司的招股说明书”\n",
    "    \n",
    "    问题：“我想知道XXXXXX债券A基金在20200930的季报中，其可转债持仓占比最大的是哪个行业？用申万一级行业来统计。”\n",
    "    回答：“基金股票数据库”\n",
    "    \n",
    "    问题：“XXXXXX股份有限公司2020年增资后的投后估值是多少？”\n",
    "    回答：“该公司的招股说明书”\n",
    "    \n",
    "    问题：“根据XXXXXX股份有限公司招股意向书，全球率先整体用LED路灯替换传统路灯的案例是？”\n",
    "    回答：“该公司的招股说明书”\n",
    "    \n",
    "    问题：“什么公司、在何时与XXXXXX股份有限公司发生了产品争议事项？产品争议事项是否已经解决？”\n",
    "    回答：“该公司的招股说明书”\n",
    "    \n",
    "    问题：“请帮我查询下股票代码为XXXXXX的股票在2021年内最高日收盘价是多少？”\n",
    "    回答：“基金股票数据库”\n",
    "    \n",
    "    问题：“XXXXXX股份有限公司的中标里程覆盖率为多少？”\n",
    "    回答：“该公司的招股说明书”\n",
    "    \n",
    "    问题：“根据中国证监会颁布的《上市公司行业分类指导》的规定，XXXXXX有限公司所属的行业大类、中类、小类是什么？”\n",
    "    回答：“该公司的招股说明书”\n",
    "    \n",
    "    问题：“请问XXXX年一季度有多少家基金是净申购?它们的净申购份额加起来是多少?请四舍五入保留小数点两位。”\n",
    "    回答：“基金股票数据库”\n",
    "    \n",
    "    问题：“XXXXXX有限公司和合肥翰林是否按规定为员工缴纳了社会保险？”\n",
    "    回答：“该公司的招股说明书”\n",
    "    \n",
    "    问题：“我想知道XXXXXX有限公司在2020年成立了多少只管理费率小于0.8%的基金？”\n",
    "    回答：“基金股票数据库”\n",
    "    \n",
    "    问题：“根据《CRCC产品认证实施规则》，《铁路产品认证证书》有效期为多久？XXXXXX有限公司取得 《铁路产品认证证书》后，至少多久需要接受一次监督？”\n",
    "    回答：“该公司的招股说明书”\n",
    "    \n",
    "    问题：“我想知道XXXXXX基金管理有限公司在2019年成立了多少只管理费率小于0.8%的基金？”\n",
    "    回答：“基金股票数据库”\n",
    "    \n",
    "    问题：“请问XXXX年一季度有多少家基金是净申购?它们的净申购份额加起来是多少?请四舍五入保留小数点两位。”\n",
    "    回答：“基金股票数据库”\n",
    "    \n",
    "    问题：“我想知道XXXXXX有限公司在2019年成立了多少只管理费率小于0.8%的基金？”\n",
    "    回答：“基金股票数据库”\n",
    "    \n",
    "    问题：“我想知道股票XXXXXX在申万行业分类下的二级行业是什么？用最新的数据。”\n",
    "    回答：“基金股票数据库”\n",
    "    \n",
    "    问题：“请帮我查询下股票代码为XXXXXX的股票在2019年内最高日收盘价是多少？”\n",
    "    回答：“基金股票数据库”\n",
    "    \n",
    "    问题：“股票XXXXXX在20200227日期中的收盘价是多少?（小数点保留3位）”\n",
    "    回答：“基金股票数据库”\n",
    "    \n",
    "    问题：“截至2009年底，中海达、南方测绘合计占有国产品牌销售额的多大比例？”\n",
    "    回答：“该公司的招股说明书”\n",
    "    \n",
    "    问题：“截止2005年12月31日，南岭化工厂的总资产和净资产分别是多少？”\n",
    "    回答：“该公司的招股说明书”\n",
    "    \n",
    "    问题：“股票XXXXXX在20200227日期中的收盘价是多少?（小数点保留3位）”\n",
    "    回答：“基金股票数据库”\n",
    "\n",
    "    根据上面提供的例子对以下问题进行分类。\n",
    "    问题：“\n",
    "    \"\"\""
   ]
  },
  {
   "cell_type": "code",
   "execution_count": null,
   "metadata": {},
   "outputs": [],
   "source": [
    "# 对每个问题进行分类\n",
    "for q in questions:\n",
    "    tmp_question = q['question']\n",
    "    tmp_prompt = prompt + tmp_question + \"?”\"\n",
    "    \n",
    "    response, history = model.chat(tokenizer, tmp_prompt, history=None)\n",
    "    \n",
    "    if '招股说明书' in response and '股票数据库' not in response:\n",
    "        tmp_class = 'text'\n",
    "    elif '招股说明书' not in response and '股票数据库' in response:\n",
    "        tmp_class = 'sql'\n",
    "    else:\n",
    "        tmp_class = 'sql'\n",
    "    \n",
    "    q['question_type'] = tmp_class\n",
    "\n",
    "questions[0]    "
   ]
  },
  {
   "cell_type": "markdown",
   "metadata": {},
   "source": [
    "## 将分类后的问题保存下来"
   ]
  },
  {
   "cell_type": "code",
   "execution_count": null,
   "metadata": {},
   "outputs": [],
   "source": [
    "def write_jsonl(path, content):\n",
    "    with jsonlines.open(path, \"w\") as json_file:\n",
    "        json_file.write_all(content)\n",
    "        \n",
    "write_jsonl('bs_challenge_financial_14b_dataset/classified_question.json', questions)"
   ]
  }
 ],
 "metadata": {
  "kernelspec": {
   "display_name": "llm",
   "language": "python",
   "name": "python3"
  },
  "language_info": {
   "codemirror_mode": {
    "name": "ipython",
    "version": 3
   },
   "file_extension": ".py",
   "mimetype": "text/x-python",
   "name": "python",
   "nbconvert_exporter": "python",
   "pygments_lexer": "ipython3",
   "version": "3.11.9"
  }
 },
 "nbformat": 4,
 "nbformat_minor": 2
}
